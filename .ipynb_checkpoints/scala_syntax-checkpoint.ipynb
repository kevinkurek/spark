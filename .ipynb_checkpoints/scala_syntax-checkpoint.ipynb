{
 "cells": [
  {
   "cell_type": "markdown",
   "metadata": {},
   "source": [
    "# Scala Syntax Sheet"
   ]
  },
  {
   "cell_type": "markdown",
   "metadata": {},
   "source": [
    "### Declare Variables"
   ]
  },
  {
   "cell_type": "code",
   "execution_count": 3,
   "metadata": {},
   "outputs": [
    {
     "name": "stdout",
     "output_type": "stream",
     "text": [
      "7\n",
      "2\n",
      "Map(0 -> 1, 1 -> 1, 6 -> 1, 9 -> 1, 2 -> 1, 3 -> 2)\n",
      "Map(b -> 1, a -> 1, c -> 2)\n"
     ]
    },
    {
     "data": {
      "text/plain": [
       "import scala.collection.mutable.ArrayBuffer\n",
       "c: Seq[Int] = List(1, 2, 3, 3, 6, 9, 0)\n",
       "d: scala.collection.immutable.Vector[String] = Vector(a, b, c, c)\n",
       "e: scala.collection.mutable.ArrayBuffer[String] = ArrayBuffer(a, b, c)\n"
      ]
     },
     "execution_count": 3,
     "metadata": {},
     "output_type": "execute_result"
    }
   ],
   "source": [
    "import scala.collection.mutable.ArrayBuffer\n",
    "\n",
    "val c: Seq[Int] = Seq(1, 2, 3, 3, 6, 9, 0)\n",
    "println(c.size)\n",
    "\n",
    "// Use Vector as default immutable datatype\n",
    "val d = Vector(\"a\", \"b\", \"c\", \"c\")\n",
    "println(c.count(_==3))\n",
    "\n",
    "// Use ArrayBuffer as default mutable datatype\n",
    "var e = ArrayBuffer(\"a\", \"b\", \"c\")\n",
    "\n",
    "// Groupby and count items in collection\n",
    "println(c.groupBy(identity).mapValues(_.size))\n",
    "println(d.groupBy(identity).mapValues(_.size))"
   ]
  },
  {
   "cell_type": "markdown",
   "metadata": {},
   "source": [
    "### Functions"
   ]
  },
  {
   "cell_type": "code",
   "execution_count": 7,
   "metadata": {},
   "outputs": [
    {
     "data": {
      "text/plain": [
       "suma: (a: Int)Int\n",
       "sayHello: (name: String)String\n",
       "sayHello1: (name: String)(whoAreYou: () => String)String\n",
       "provideName: ()String\n",
       "f: String = Hello test! My name is Scala\n",
       "g: String = Hello test! My name is Anonymous\n",
       "sayHello2: (name: String)(implicit myself: String)String\n",
       "myString: String = implicits\n",
       "h: String = Hello test! My name is implicits\n"
      ]
     },
     "execution_count": 7,
     "metadata": {},
     "output_type": "execute_result"
    }
   ],
   "source": [
    "// Quick\n",
    "def suma(a: Int) = a + 3\n",
    "suma(8)\n",
    "\n",
    "// Explicit\n",
    "def sayHello(name: String):String = {\n",
    "    s\"Hello $name!\"\n",
    "}\n",
    "sayHello(\"Kevin\")\n",
    "\n",
    "// Scala allows multiple parameter lists: Useful when last parameter is an implicit or another function\n",
    "def sayHello1(name: String)(whoAreYou : () => String) = {\n",
    "    s\"Hello $name! My name is ${whoAreYou()}\"\n",
    "}\n",
    "def provideName() = {\"Scala\"}\n",
    "val f = sayHello1(\"test\")(provideName)\n",
    "\n",
    "// Anonymous Functions\n",
    "val g = sayHello1(\"test\"){() => \"Anonymous\"}\n",
    "\n",
    "// implicit declarations\n",
    "def sayHello2(name:String)(implicit myself: String) = {\n",
    "    s\"Hello $name! My name is $myself\"\n",
    "}\n",
    "implicit val myString = \"implicits\" // automatically knows to populate implicit myself parameter\n",
    "val h = sayHello2(\"test\")"
   ]
  },
  {
   "cell_type": "markdown",
   "metadata": {},
   "source": [
    "### Classes"
   ]
  },
  {
   "cell_type": "code",
   "execution_count": 30,
   "metadata": {},
   "outputs": [
    {
     "name": "stdout",
     "output_type": "stream",
     "text": [
      "test\n",
      "me\n",
      "fast\n",
      "Hello test! My name is fast\n",
      "Hello Kevin! My name is Thomas\n",
      "Hello test! My name is me\n"
     ]
    },
    {
     "data": {
      "text/plain": [
       "defined class fastTrack\n",
       "fast: fastTrack = fastTrack@53a313c1\n",
       "fast.myself: String = fast\n"
      ]
     },
     "execution_count": 30,
     "metadata": {},
     "output_type": "execute_result"
    }
   ],
   "source": [
    "class fastTrack(val name: String, var myself: String){\n",
    "    \n",
    "    // No explicit constructor needed\n",
    "    // val/var determine if getter/setters are made automatically\n",
    "    \n",
    "    def sayHi()= {s\"Hello $name! My name is $myself\"}\n",
    "    \n",
    "    def sayHello1(name1:String, myself1:String)={\n",
    "        s\"Hello $name1! My name is $myself1\"\n",
    "    }\n",
    "    \n",
    "    def greet(name1:String)(myself1:String)={\n",
    "        s\"Hello $name! My name is $myself\"\n",
    "    }\n",
    "    \n",
    "    val greeting = greet(name)(myself)\n",
    "}\n",
    "\n",
    "val fast = new fastTrack(\"test\", \"me\")\n",
    "// Only has getter since declared as val\n",
    "println(fast.name)\n",
    "// Has setter since declared as var\n",
    "println(fast.myself)\n",
    "fast.myself = \"fast\"\n",
    "println(fast.myself)\n",
    "\n",
    "println(fast.sayHi())\n",
    "println(fast.sayHello1(\"Kevin\",\"Thomas\"))\n",
    "println(fast.greeting)"
   ]
  },
  {
   "cell_type": "markdown",
   "metadata": {},
   "source": [
    "### Case Classes\n",
    "* Don't need 'new' keyword\n",
    "* Supports pattern matching\n",
    "* All arguments prefixed with val by default"
   ]
  },
  {
   "cell_type": "code",
   "execution_count": 32,
   "metadata": {},
   "outputs": [
    {
     "name": "stdout",
     "output_type": "stream",
     "text": [
      "My name is Kevin Kurek\n"
     ]
    },
    {
     "data": {
      "text/plain": [
       "defined class person\n",
       "me: person = person(Kevin,Kurek)\n"
      ]
     },
     "execution_count": 32,
     "metadata": {},
     "output_type": "execute_result"
    }
   ],
   "source": [
    "case class person(fname:String, lname:String){\n",
    "    val myname = s\"My name is $fname $lname\"\n",
    "}\n",
    "\n",
    "val me = person(\"Kevin\", \"Kurek\")\n",
    "println(me.myname)"
   ]
  },
  {
   "cell_type": "markdown",
   "metadata": {},
   "source": [
    "### Pattern Matching with Case Classes"
   ]
  },
  {
   "cell_type": "code",
   "execution_count": 37,
   "metadata": {},
   "outputs": [
    {
     "name": "stdout",
     "output_type": "stream",
     "text": [
      "Kevin-Kurek-28\n",
      "Other-Person\n"
     ]
    },
    {
     "data": {
      "text/plain": [
       "defined class Person\n",
       "defined class Student\n",
       "defined class Worker\n",
       "me: Student = Student(Kevin,Kurek,28)\n",
       "them: Worker = Worker(Other,Person,30)\n",
       "getFullID: [T <: Person](something: T)String\n"
      ]
     },
     "execution_count": 37,
     "metadata": {},
     "output_type": "execute_result"
    }
   ],
   "source": [
    "// abstract class: requires subclasses to have same definitions\n",
    "abstract class Person(fname: String, lname: String){\n",
    "    def fullName = {s\"$fname-$lname\"}\n",
    "}\n",
    "\n",
    "case class Student(fname: String, lname: String, id: Int) \n",
    "        extends Person(fname, lname) // abstract Person class is parent of Student; child of Person\n",
    "\n",
    "case class Worker(fname: String, lname: String, id: Int)\n",
    "        extends Person(fname, lname) // child of Person\n",
    "\n",
    "val me = Student(\"Kevin\", \"Kurek\", 28)\n",
    "val them = Worker(\"Other\", \"Person\", 30)\n",
    "\n",
    "// template variable must be of type Person. \"<:\" means T must be person or derivative of Person\n",
    "def getFullID[T <: Person](something: T) = {\n",
    "    something match {\n",
    "        case Student(fname, lname, id) => s\"$fname-$lname-$id\"\n",
    "        case p: Person => p.fullName\n",
    "    }\n",
    "}\n",
    "\n",
    "println(getFullID(me)) // matches on Student type thus: fname-lname-id\n",
    "println(getFullID(them)) // matches on Person since Worker is child thus: p.fullName = fname-lname"
   ]
  },
  {
   "cell_type": "markdown",
   "metadata": {},
   "source": [
    "### Implicit Classes"
   ]
  },
  {
   "cell_type": "code",
   "execution_count": 40,
   "metadata": {},
   "outputs": [
    {
     "name": "stdout",
     "output_type": "stream",
     "text": [
      "Map(collections -> [Ljava.lang.String;@7b735980, Spark -> [Ljava.lang.String;@53da7e7b, Scala -> [Ljava.lang.String;@2e0d3430, mimic -> [Ljava.lang.String;@6def9066)\n"
     ]
    },
    {
     "data": {
      "text/plain": [
       "defined class stringUtils\n",
       "res33: scala.collection.immutable.Map[String,Int] = Map(collections -> 2, Spark -> 1, Scala -> 1, mimic -> 1)\n"
      ]
     },
     "execution_count": 40,
     "metadata": {},
     "output_type": "execute_result"
    }
   ],
   "source": [
    "implicit class stringUtils(myString: String){\n",
    "    def scalaWordCount() = {\n",
    "        val split = myString.split(\"\\\\s+\") //split on whitespace\n",
    "        val grouped = split.groupBy(word => word) //alternative syntax: .groupBy(identity)\n",
    "        val countPerKey = grouped.mapValues(group => group.length) //alternative syntax: .mapValues(_.size)\n",
    "        countPerKey\n",
    "    }\n",
    "}\n",
    "\n",
    "// Can automatically use class method without doing stringUtils.scalaWordCount()\n",
    "\"Spark collections mimic Scala collections\".scalaWordCount()"
   ]
  },
  {
   "cell_type": "markdown",
   "metadata": {},
   "source": [
    "### Looping"
   ]
  },
  {
   "cell_type": "code",
   "execution_count": 1,
   "metadata": {},
   "outputs": [
    {
     "name": "stdout",
     "output_type": "stream",
     "text": [
      "Not appended: it's\n",
      "Not appended: Al\n"
     ]
    },
    {
     "data": {
      "text/plain": [
       "longWords: StringBuilder =  Hello world\n"
      ]
     },
     "execution_count": 1,
     "metadata": {},
     "output_type": "execute_result"
    }
   ],
   "source": [
    "val longWords = new StringBuilder\n",
    "\n",
    "\"Hello world it's Al\".split(\" \").foreach{e => \n",
    "                if (e.length>4) longWords.append(s\" $e\")\n",
    "                else println(\"Not appended: \" + e)\n",
    "            }"
   ]
  },
  {
   "cell_type": "code",
   "execution_count": 11,
   "metadata": {},
   "outputs": [
    {
     "data": {
      "text/plain": [
       "import scala.collection.mutable.ArrayBuffer\n",
       "mybuffer: scala.collection.mutable.ArrayBuffer[Int] = ArrayBuffer(3, 4)\n",
       "otherlist: List[Int] = List(1, 2, 3, 4)\n"
      ]
     },
     "execution_count": 11,
     "metadata": {},
     "output_type": "execute_result"
    }
   ],
   "source": [
    "import scala.collection.mutable.ArrayBuffer\n",
    "\n",
    "var mybuffer = ArrayBuffer.empty[Int]\n",
    "val otherlist = List(1, 2, 3, 4)\n",
    "\n",
    "// append value from one collection to another\n",
    "otherlist.foreach(e => if(e > 2) mybuffer += e)"
   ]
  },
  {
   "cell_type": "code",
   "execution_count": 16,
   "metadata": {},
   "outputs": [
    {
     "name": "stdout",
     "output_type": "stream",
     "text": [
      "Kevin\n",
      "Kurek\n",
      "Neither Condition\n",
      "Kevin\n",
      "Kurek\n",
      "Neither Condition\n"
     ]
    },
    {
     "data": {
      "text/plain": [
       "m: scala.collection.immutable.Map[String,String] = Map(fname -> Kevin, lname -> Kurek, mname -> Thomas)\n"
      ]
     },
     "execution_count": 16,
     "metadata": {},
     "output_type": "execute_result"
    }
   ],
   "source": [
    "val m = Map(\"fname\"->\"Kevin\", \"lname\"->\"Kurek\", \"mname\"->\"Thomas\")\n",
    "\n",
    "// loop key-value pairs\n",
    "m.foreach{kv => if(kv._1.contains(\"fname\")) println(kv._2)\n",
    "                        else if (kv._1.contains(\"lname\")) println(kv._2)\n",
    "                        else println(\"Neither Condition\")\n",
    "         }\n",
    "\n",
    "\n",
    "// equivalent syntax to be more explicit about key-value names\n",
    "m foreach {\n",
    "    case(key, value) => if(key.contains(\"fname\")) println(value)\n",
    "                        else if (key.contains(\"lname\")) println(value)\n",
    "                        else println(\"Neither Condition\")\n",
    "}"
   ]
  },
  {
   "cell_type": "code",
   "execution_count": 17,
   "metadata": {},
   "outputs": [
    {
     "name": "stdout",
     "output_type": "stream",
     "text": [
      "element 0 is apple\n",
      "element 1 is banana\n",
      "element 2 is orange\n"
     ]
    },
    {
     "data": {
      "text/plain": [
       "fruits: Array[String] = Array(apple, banana, orange)\n"
      ]
     },
     "execution_count": 17,
     "metadata": {},
     "output_type": "execute_result"
    }
   ],
   "source": [
    "// print index and element\n",
    "val fruits = Array(\"apple\", \"banana\", \"orange\")\n",
    "for ((elem, count) <- fruits.zipWithIndex) { println(s\"element $count is $elem\") }"
   ]
  },
  {
   "cell_type": "markdown",
   "metadata": {},
   "source": [
    "### Functional Programming"
   ]
  },
  {
   "cell_type": "code",
   "execution_count": 45,
   "metadata": {},
   "outputs": [
    {
     "data": {
      "text/plain": [
       "defined object math_stuff\n",
       "x: scala.collection.immutable.Range.Inclusive = Range 1 to 10\n",
       "double_list: scala.collection.immutable.IndexedSeq[Int] = Vector(2, 4, 6, 8, 10, 12, 14, 16, 18, 20)\n",
       "triple_list: scala.collection.immutable.IndexedSeq[Int] = Vector(3, 6, 9, 12, 15, 18, 21, 24, 27, 30)\n"
      ]
     },
     "execution_count": 45,
     "metadata": {},
     "output_type": "execute_result"
    }
   ],
   "source": [
    "object math_stuff{\n",
    "    val double = (i:Int) => i * 2\n",
    "    val triple = (i:Int) => i * 3\n",
    "}\n",
    "\n",
    "val x = 1 to 10\n",
    "val double_list = x.map(math_stuff.double)\n",
    "val triple_list = x.map(math_stuff.triple)"
   ]
  },
  {
   "cell_type": "code",
   "execution_count": 47,
   "metadata": {},
   "outputs": [
    {
     "data": {
      "text/plain": [
       "myList: List[String] = List(Spark, mimics, Scala, collections)\n",
       "full_mapped: List[String] = List(SPARK, MIMICS, SCALA, COLLECTIONS)\n",
       "short_mapped: List[String] = List(SPARK, MIMICS, SCALA, COLLECTIONS)\n"
      ]
     },
     "execution_count": 47,
     "metadata": {},
     "output_type": "execute_result"
    }
   ],
   "source": [
    "val myList = List(\"Spark\", \"mimics\", \"Scala\", \"collections\")\n",
    "\n",
    "// Same results, different syntax\n",
    "val full_mapped = myList.map(s => s.toUpperCase)\n",
    "val short_mapped = myList.map(_.toUpperCase)"
   ]
  },
  {
   "cell_type": "code",
   "execution_count": 50,
   "metadata": {},
   "outputs": [
    {
     "data": {
      "text/plain": [
       "myList: List[String] = List(Spark, mimics, Scala, collections)\n",
       "filters: List[String] = List(mimics, collections)\n",
       "flatMapped: List[String] = List(Spark, Scala)\n"
      ]
     },
     "execution_count": 50,
     "metadata": {},
     "output_type": "execute_result"
    }
   ],
   "source": [
    "val myList = List(\"Spark\", \"mimics\", \"Scala\", \"collections\")\n",
    "\n",
    "val filters = List(\"mimics\", \"collections\")\n",
    "val flatMapped = myList.flatMap{s=> \n",
    "                               if (filters.contains(s))\n",
    "                                   None\n",
    "                               else\n",
    "                                   Some(s)\n",
    "                                }"
   ]
  },
  {
   "cell_type": "code",
   "execution_count": null,
   "metadata": {},
   "outputs": [],
   "source": [
    "val final_sum = double_list.foldLeft(0.0)(_+_)\n",
    "println(final_sum)"
   ]
  },
  {
   "cell_type": "code",
   "execution_count": 83,
   "metadata": {},
   "outputs": [
    {
     "name": "stdout",
     "output_type": "stream",
     "text": [
      "NumericRange a to z\n",
      "List(a, b, c)\n"
     ]
    },
    {
     "data": {
      "text/plain": [
       "alphabet: scala.collection.immutable.NumericRange.Inclusive[Char] = NumericRange a to z\n",
       "alpha: List[Char] = List(a, b, c)\n"
      ]
     },
     "execution_count": 83,
     "metadata": {},
     "output_type": "execute_result"
    }
   ],
   "source": [
    "// Creates Numeric alphabet\n",
    "// val alphabet = 'a' to 'z'\n",
    "val alphabet = ('a' to 'z')\n",
    "val alpha = List('a','b','c')\n",
    "println(alphabet)\n",
    "println(alpha)"
   ]
  },
  {
   "cell_type": "code",
   "execution_count": 84,
   "metadata": {},
   "outputs": [
    {
     "data": {
      "text/plain": [
       "donuts: Seq[String] = List(Plain, Strawberry, Glazed)\n",
       "donut_words: String = \"Plain Donut Strawberry Donut Glazed Donut \"\n"
      ]
     },
     "execution_count": 84,
     "metadata": {},
     "output_type": "execute_result"
    }
   ],
   "source": [
    "// def foldLeft[B](z: B)(op: (B, A) ⇒ B): B\n",
    "val donuts: Seq[String] = Seq(\"Plain\", \"Strawberry\", \"Glazed\")\n",
    "val donut_words = donuts.foldLeft(\"\")((a, b) => a + b + \" Donut \")\n",
    "\n",
    "// val donut_words = donuts.foldLeft(\"\")((a, b) => b + \" Donut \") // Glazed Donut (last entry)\n",
    "// println(s\"All donuts = ${donuts.foldLeft(\"\")((a, b) => a + b + \" Donut \")}\")"
   ]
  },
  {
   "cell_type": "code",
   "execution_count": 85,
   "metadata": {},
   "outputs": [
    {
     "name": "stdout",
     "output_type": "stream",
     "text": [
      "zyxwvutsrqponmlkjihgfedcba\n"
     ]
    },
    {
     "data": {
      "text/plain": [
       "r: List[Char] = List(z, y, x, w, v, u, t, s, r, q, p, o, n, m, l, k, j, i, h, g, f, e, d, c, b, a)\n",
       "smash: String = zyxwvutsrqponmlkjihgfedcba\n"
      ]
     },
     "execution_count": 85,
     "metadata": {},
     "output_type": "execute_result"
    }
   ],
   "source": [
    "val r = alphabet.reverse.toList\n",
    "val smash = r.foldRight(\"\")(_+_)\n",
    "println(smash)"
   ]
  },
  {
   "cell_type": "code",
   "execution_count": 17,
   "metadata": {},
   "outputs": [
    {
     "data": {
      "text/plain": [
       "chars: scala.collection.immutable.IndexedSeq[Char] = Vector(a, b, c, d, e, f, g, h, i, j, k, l, m, n, o, p, q, r, s, t, u, v, w, x, y, z, A, B, C, D, E, F, G, H, I, J, K, L, M, N, O, P, Q, R, S, T, U, V, W, X, Y, Z)\n"
      ]
     },
     "execution_count": 17,
     "metadata": {},
     "output_type": "execute_result"
    }
   ],
   "source": [
    "// push collections together\n",
    "val chars = ('a' to 'z') ++ ('A' to 'Z')"
   ]
  },
  {
   "cell_type": "markdown",
   "metadata": {},
   "source": [
    "### Basic Spark"
   ]
  },
  {
   "cell_type": "code",
   "execution_count": 81,
   "metadata": {},
   "outputs": [
    {
     "name": "stdout",
     "output_type": "stream",
     "text": [
      "+------+---+\n",
      "|    _1| _2|\n",
      "+------+---+\n",
      "|name-0|  0|\n",
      "|name-1|  1|\n",
      "|name-2|  2|\n",
      "|name-3|  3|\n",
      "|name-4|  4|\n",
      "+------+---+\n",
      "only showing top 5 rows\n",
      "\n"
     ]
    },
    {
     "data": {
      "text/plain": [
       "items: scala.collection.immutable.IndexedSeq[(String, Int)] = Vector((name-0,0), (name-1,1), (name-2,2), (name-3,3), (name-4,4), (name-5,5), (name-6,6), (name-7,7), (name-8,8), (name-9,9), (name-10,10), (name-11,11), (name-12,12), (name-13,13), (name-14,14), (name-15,15), (name-16,16), (name-17,17), (name-18,18), (name-19,19), (name-20,20), (name-21,21), (name-22,22), (name-23,23), (name-24,24), (name-25,25), (name-26,26), (name-27,27), (name-28,28), (name-29,29), (name-30,30), (name-31,31), (name-32,32), (name-33,33), (name-34,34), (name-35,35), (name-36,36), (name-37,37), (name-38,38), (name-39,39), (name-40,40), (name-41,41), (name-42,42), (name-43,43), (name-44,44), (name-45,45), (name-46,46), (name-47,47), (name-48,48), (name-49,49), (name-50,50), (name-51,51), (name-52,52), (name-...\n"
      ]
     },
     "execution_count": 81,
     "metadata": {},
     "output_type": "execute_result"
    }
   ],
   "source": [
    "val items = (0 to 100).map(i => (s\"name-$i\", i))\n",
    "\n",
    "// create RDD\n",
    "val itemsRDD = sc.parallelize(items) \n",
    "\n",
    "// create dataframe\n",
    "val itemsDF = itemsRDD.toDF()\n",
    "itemsDF.show(5)"
   ]
  },
  {
   "cell_type": "code",
   "execution_count": 74,
   "metadata": {},
   "outputs": [],
   "source": [
    "itemsDF.registerTempTable(\"items\")"
   ]
  },
  {
   "cell_type": "code",
   "execution_count": 79,
   "metadata": {},
   "outputs": [
    {
     "name": "stdout",
     "output_type": "stream",
     "text": [
      "+------+---+\n",
      "|    _1| _2|\n",
      "+------+---+\n",
      "|name-0|  0|\n",
      "|name-1|  1|\n",
      "|name-2|  2|\n",
      "|name-3|  3|\n",
      "|name-4|  4|\n",
      "|name-5|  5|\n",
      "|name-6|  6|\n",
      "|name-7|  7|\n",
      "|name-8|  8|\n",
      "|name-9|  9|\n",
      "+------+---+\n",
      "\n"
     ]
    },
    {
     "data": {
      "text/plain": [
       "sql_df: org.apache.spark.sql.DataFrame = [_1: string, _2: int]\n"
      ]
     },
     "execution_count": 79,
     "metadata": {},
     "output_type": "execute_result"
    }
   ],
   "source": [
    "val sql_df = spark.sql(\"\"\"SELECT * \n",
    "                        FROM items \n",
    "                        WHERE _2 < 10\"\"\")\n",
    "sql_df.show()"
   ]
  },
  {
   "cell_type": "code",
   "execution_count": null,
   "metadata": {},
   "outputs": [],
   "source": []
  }
 ],
 "metadata": {
  "kernelspec": {
   "display_name": "spylon-kernel",
   "language": "scala",
   "name": "spylon-kernel"
  },
  "language_info": {
   "codemirror_mode": "text/x-scala",
   "file_extension": ".scala",
   "help_links": [
    {
     "text": "MetaKernel Magics",
     "url": "https://metakernel.readthedocs.io/en/latest/source/README.html"
    }
   ],
   "mimetype": "text/x-scala",
   "name": "scala",
   "pygments_lexer": "scala",
   "version": "0.4.1"
  }
 },
 "nbformat": 4,
 "nbformat_minor": 4
}
